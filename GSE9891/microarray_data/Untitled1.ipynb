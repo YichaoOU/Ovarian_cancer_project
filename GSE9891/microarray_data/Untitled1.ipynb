{
 "cells": [
  {
   "cell_type": "code",
   "execution_count": 1,
   "metadata": {},
   "outputs": [],
   "source": [
    "# SLC7A2\t225516_at\n",
    "# PIFO\t228100_at\n",
    "# BBS12\t229603_at\n",
    "# HES2\t231928_at\n",
    "# MAFB\t222670_s_at\n",
    "# MAFB\t218559_s_at\n",
    "# CRABP2\t202575_at"
   ]
  },
  {
   "cell_type": "code",
   "execution_count": 11,
   "metadata": {},
   "outputs": [
    {
     "data": {
      "text/html": [
       "<strong>png:</strong> 2"
      ],
      "text/latex": [
       "\\textbf{png:} 2"
      ],
      "text/markdown": [
       "**png:** 2"
      ],
      "text/plain": [
       "png \n",
       "  2 "
      ]
     },
     "metadata": {},
     "output_type": "display_data"
    }
   ],
   "source": [
    "library(ggplot2)\n",
    "multiplot <- function(..., plotlist=NULL, file, cols=1, layout=NULL) {\n",
    "  library(grid)\n",
    "\n",
    "  # Make a list from the ... arguments and plotlist\n",
    "  plots <- c(list(...), plotlist)\n",
    "\n",
    "  numPlots = length(plots)\n",
    "\n",
    "  # If layout is NULL, then use 'cols' to determine layout\n",
    "  if (is.null(layout)) {\n",
    "    # Make the panel\n",
    "    # ncol: Number of columns of plots\n",
    "    # nrow: Number of rows needed, calculated from # of cols\n",
    "    layout <- matrix(seq(1, cols * ceiling(numPlots/cols)),\n",
    "                    ncol = cols, nrow = ceiling(numPlots/cols))\n",
    "  }\n",
    "\n",
    " if (numPlots==1) {\n",
    "    print(plots[[1]])\n",
    "\n",
    "  } else {\n",
    "    # Set up the page\n",
    "    grid.newpage()\n",
    "    pushViewport(viewport(layout = grid.layout(nrow(layout), ncol(layout))))\n",
    "\n",
    "    # Make each plot, in the correct location\n",
    "    for (i in 1:numPlots) {\n",
    "      # Get the i,j matrix positions of the regions that contain this subplot\n",
    "      matchidx <- as.data.frame(which(layout == i, arr.ind = TRUE))\n",
    "\n",
    "      print(plots[[i]], vp = viewport(layout.pos.row = matchidx$row,\n",
    "                                      layout.pos.col = matchidx$col))\n",
    "    }\n",
    "  }\n",
    "}\n",
    "\n",
    "\n",
    "\n",
    "\n",
    "# genes = c(\"CA12.data\",\"DNAJB9.data\",\"ANK1.data\",\"GCLC.data\",\"PPP1R14C.data\",\"SYNPO.data\",\"PGK1.data\",\"SYNPO.data\",\"CHST15.data\",\"DNAJB9.data\",\"DNAJB9.data\",\"GCLC.data\",\"ZDHHC7.data\",\"ECE1.data\",\"NQO1.data\",\"NQO1.data\",\"TMEM30B.data\",\"PDGFC.data\",\"NQO1.data\",\"TSPAN1.data\",\"SERPINE2.data\",\"HES2.data\",\"HES2.data\",\"AFF2.data\",\"HES2.data\",\"PIFO.data\",\"CRABP2.data\",\"MAFB.data\",\"BBS12.data\",\"RPS15.data\",\"RPS12.data\",\"SLC7A2.data\",\"RPL7A.data\",\"MAFB.data\",\"RPL7A.data\",\"RPL12.data\",\"RPL12.data\",\"RPL12.data\")\n",
    "# probes = c(\"203963_at\",\"202843_at\",\"205390_s_at\",\"1555330_at\",\"226907_at\",\"235914_at\",\"227068_at\",\"202796_at\",\"203066_at\",\"202842_s_at\",\"1554462_a_at\",\"202923_s_at\",\"218606_at\",\"201749_at\",\"201468_s_at\",\"210519_s_at\",\"213285_at\",\"218718_at\",\"201467_s_at\",\"209114_at\",\"212190_at\",\"214521_at\",\"216674_at\",\"206105_at\",\"231928_at\",\"228100_at\",\"202575_at\",\"218559_s_at\",\"229603_at\",\"200819_s_at\",\"213377_x_at\",\"225516_at\",\"224930_x_at\",\"222670_s_at\",\"217740_x_at\",\"200088_x_at\",\"200809_x_at\",\"214271_x_at\")\n",
    "\n",
    "# plots <- list()  # new empty list\n",
    "# for (i in 1:38) {\n",
    "#     gene = genes[i]\n",
    "#     probe = probes[i]\n",
    "#     df=read.table(gene,sep=\"\\t\",header=T)\n",
    "#     a=ggplot(aes(y = Values, x = probe, fill = Type), data = df) + geom_boxplot()\n",
    "#     a=a+xlab(gsub(\".data\",\"\",gene))+ylab(\"Gene-EXP\")+theme(legend.position=\"none\")\n",
    "#     plots[[i]] <- a  # add each plot into plot list\n",
    "# }\n",
    "# b = multiplot(plotlist = plots, cols = 5)\n",
    "\n",
    "# ggsave(filename = \"selected_gene_box_plot.png\",plot=b,limitsize = FALSE,dpi=300)\n",
    "\n",
    "# SLC7A2\t225516_at\n",
    "# PIFO\t228100_at\n",
    "# BBS12\t229603_at\n",
    "# HES2\t231928_at\n",
    "# MAFB\t222670_s_at\n",
    "# MAFB\t218559_s_at\n",
    "# CRABP2\t202575_at\n",
    "\n",
    "plots <- list()  # new empty list\n",
    "\n",
    "\n",
    "df=read.table(\"SLC7A2.data\",sep=\"\\t\",header=T)\n",
    "a=ggplot(aes(y = Values, x = factor(Type), fill = factor(Type)), data = subset(df, Probe == \"225516_at\")) + geom_boxplot() # + geom_dotplot(alpha = 0.8,binaxis='y', stackdir='center', dotsize=0.5)\n",
    "a=a+xlab(\"SLC7A2\")+ylab(\"Probe-225516_at-EXP\")+theme(legend.position=\"none\")\n",
    "\n",
    "plots[[1]] <- a\n",
    "\n",
    "df=read.table(\"PIFO.data\",sep=\"\\t\",header=T)\n",
    "a=ggplot(aes(y = Values, x = factor(Type), fill = factor(Type)), data = subset(df, Probe == \"228100_at\")) + geom_boxplot() # + geom_dotplot(alpha = 0.8,binaxis='y', stackdir='center', dotsize=0.5)\n",
    "a=a+xlab(\"PIFO\")+ylab(\"Probe-228100_at-EXP\")+theme(legend.position=\"none\")\n",
    "\n",
    "plots[[2]] <- a\n",
    "\n",
    "df=read.table(\"BBS12.data\",sep=\"\\t\",header=T)\n",
    "a=ggplot(aes(y = Values, x = factor(Type), fill = factor(Type)), data = subset(df, Probe == \"229603_at\")) + geom_boxplot() # + geom_dotplot(alpha = 0.8,binaxis='y', stackdir='center', dotsize=0.5)\n",
    "a=a+xlab(\"BBS12\")+ylab(\"Probe-229603_at-EXP\")+theme(legend.position=\"none\")\n",
    "\n",
    "plots[[3]] <- a\n",
    "\n",
    "\n",
    "df=read.table(\"HES2.data\",sep=\"\\t\",header=T)\n",
    "a=ggplot(aes(y = Values, x = factor(Type), fill = factor(Type)), data = subset(df, Probe == \"231928_at\")) + geom_boxplot() # + geom_dotplot(alpha = 0.8,binaxis='y', stackdir='center', dotsize=0.5)\n",
    "a=a+xlab(\"HES2\")+ylab(\"Probe-231928_at-EXP\")+theme(legend.position=\"none\")\n",
    "\n",
    "plots[[4]] <- a\n",
    "\n",
    "\n",
    "df=read.table(\"MAFB.data\",sep=\"\\t\",header=T)\n",
    "a=ggplot(aes(y = Values, x = factor(Type), fill = factor(Type)), data = subset(df, Probe == \"222670_s_at\")) + geom_boxplot() # + geom_dotplot(alpha = 0.8,binaxis='y', stackdir='center', dotsize=0.5)\n",
    "a=a+xlab(\"MAFB\")+ylab(\"Probe-222670_s_at-EXP\")+theme(legend.position=\"none\")\n",
    "\n",
    "plots[[5]] <- a\n",
    "\n",
    "df=read.table(\"MAFB.data\",sep=\"\\t\",header=T)\n",
    "a=ggplot(aes(y = Values, x = factor(Type), fill = factor(Type)), data = subset(df, Probe == \"218559_s_at\")) + geom_boxplot() # + geom_dotplot(alpha = 0.8,binaxis='y', stackdir='center', dotsize=0.5)\n",
    "a=a+xlab(\"MAFB\")+ylab(\"Probe-218559_s_at-EXP\")+theme(legend.position=\"none\")\n",
    "\n",
    "plots[[6]] <- a\n",
    "\n",
    "\n",
    "\n",
    "df=read.table(\"CRABP2.data\",sep=\"\\t\",header=T)\n",
    "a=ggplot(aes(y = Values, x = factor(Type), fill = factor(Type)), data = subset(df, Probe == \"202575_at\")) + geom_boxplot() # + geom_dotplot(alpha = 0.8,binaxis='y', stackdir='center', dotsize=0.5)\n",
    "a=a+xlab(\"CRABP2\")+ylab(\"Probe-202575_at-EXP\")+theme(legend.position=\"none\")\n",
    "\n",
    "plots[[7]] <- a\n",
    "\n",
    "pdf(\"Figure3.pdf\")\n",
    "b = multiplot(plotlist = plots, cols = 4)\n",
    "\n",
    "# ggsave(filename = \"Figure3.png\",plot=b,limitsize = FALSE,dpi=600)\n",
    "# ggsave(filename = \"Figure3.pdf\",plot=b)\n",
    "dev.off() \n"
   ]
  },
  {
   "cell_type": "code",
   "execution_count": 7,
   "metadata": {},
   "outputs": [
    {
     "data": {
      "text/html": [
       "<strong>null device:</strong> 1"
      ],
      "text/latex": [
       "\\textbf{null device:} 1"
      ],
      "text/markdown": [
       "**null device:** 1"
      ],
      "text/plain": [
       "null device \n",
       "          1 "
      ]
     },
     "metadata": {},
     "output_type": "display_data"
    }
   ],
   "source": [
    "dev.off()"
   ]
  },
  {
   "cell_type": "code",
   "execution_count": null,
   "metadata": {},
   "outputs": [],
   "source": []
  },
  {
   "cell_type": "code",
   "execution_count": null,
   "metadata": {},
   "outputs": [],
   "source": []
  }
 ],
 "metadata": {
  "kernelspec": {
   "display_name": "R",
   "language": "R",
   "name": "ir"
  },
  "language_info": {
   "codemirror_mode": "r",
   "file_extension": ".r",
   "mimetype": "text/x-r-source",
   "name": "R",
   "pygments_lexer": "r",
   "version": "3.6.1"
  }
 },
 "nbformat": 4,
 "nbformat_minor": 4
}
